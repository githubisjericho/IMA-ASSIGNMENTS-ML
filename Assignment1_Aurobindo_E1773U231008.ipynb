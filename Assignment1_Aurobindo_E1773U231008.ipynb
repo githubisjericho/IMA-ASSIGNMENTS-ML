{
 "cells": [
  {
   "cell_type": "markdown",
   "metadata": {},
   "source": [
    "### ASSIGNMENT 1\n",
    "`Aurobindo Parida` \n",
    "`E1773U231008`"
   ]
  },
  {
   "cell_type": "markdown",
   "metadata": {},
   "source": [
    "1. Write a Python script to Solve the quadratic equation `ax² + bx + c = 0`. Take user input \n",
    "for a, b and c print nature of the root (real or complex) and print the roots."
   ]
  },
  {
   "cell_type": "code",
   "execution_count": 1,
   "metadata": {},
   "outputs": [
    {
     "name": "stdout",
     "output_type": "stream",
     "text": [
      "Quadratic Equation: 4.0x² + 5.0x + 89.0 = 0\n",
      "Nature of roots: Complex roots\n",
      "Root 1: (-0.625+4.675401052316261j)\n",
      "Root 2: (-0.625-4.675401052316261j)\n"
     ]
    }
   ],
   "source": [
    "import numpy as np\n",
    "\n",
    "def quadratic_roots(a, b, c):\n",
    "    print(f\"Quadratic Equation: {a}x² + {b}x + {c} = 0\")\n",
    "\n",
    "    discriminant = b**2 - 4*a*c\n",
    "    \n",
    "    if discriminant > 0: #Real and distinct roots\n",
    "        root1 = (-b + np.sqrt(discriminant)) / (2*a)\n",
    "        root2 = (-b - np.sqrt(discriminant)) / (2*a)\n",
    "        print(\"Nature of roots: Two distinct real roots\")\n",
    "        print(\"Root 1:\", root1)\n",
    "        print(\"Root 2:\", root2)\n",
    "    elif discriminant == 0: #Real and equal roots\n",
    "        root = -b / (2*a)\n",
    "        print(\"Nature of roots: Two identical real roots\")\n",
    "        print(\"Root:\", root)\n",
    "    else: #Complex Roots\n",
    "        real_part = -b / (2*a)\n",
    "        imaginary_part = np.sqrt(abs(discriminant)) / (2*a)\n",
    "        root1 = complex(real_part, imaginary_part)\n",
    "        root2 = complex(real_part, -imaginary_part)\n",
    "        print(\"Nature of roots: Complex roots\")\n",
    "        print(\"Root 1:\", root1)\n",
    "        print(\"Root 2:\", root2)\n",
    "\n",
    "# Take user input for coefficients\n",
    "a = float(input(\"Enter the coefficient a: \"))\n",
    "b = float(input(\"Enter the coefficient b: \"))\n",
    "c = float(input(\"Enter the coefficient c: \"))\n",
    "\n",
    "quadratic_roots(a, b, c)\n"
   ]
  },
  {
   "cell_type": "markdown",
   "metadata": {},
   "source": [
    "2. Write a Python script to find the maximum of three numbers. (Take input from user) "
   ]
  },
  {
   "cell_type": "code",
   "execution_count": 4,
   "metadata": {},
   "outputs": [
    {
     "name": "stdout",
     "output_type": "stream",
     "text": [
      "Maximum of 56,542 and 623 is 623.\n"
     ]
    }
   ],
   "source": [
    "n1 = int(input('Enter first number '))\n",
    "n2 = int(input('Enter Second number '))\n",
    "n3 = int(input('Enter third number '))\n",
    "if n1>n2 and n1>n3 : \n",
    "    print(f\"Maximum of {n1},{n2} and {n3} is {n1}.\")\n",
    "elif n2>n3:\n",
    "    print(f\"Maximum of {n1},{n2} and {n3} is {n2}.\")\n",
    "else : print(f\"Maximum of {n1},{n2} and {n3} is {n3}.\")"
   ]
  },
  {
   "cell_type": "markdown",
   "metadata": {},
   "source": [
    "3. Write a Python script that take year as input from user and print if it is a leap year or \n",
    "not. "
   ]
  },
  {
   "cell_type": "code",
   "execution_count": 1,
   "metadata": {},
   "outputs": [
    {
     "name": "stdout",
     "output_type": "stream",
     "text": [
      "2024 is a leap year.\n"
     ]
    }
   ],
   "source": [
    "year = int(input(\"Enter a year: \"))\n",
    "if year>0:\n",
    "    if (year % 4 == 0 and year % 100!= 0) or (year % 400 == 0):\n",
    "        print(f\"{year} is a leap year.\")\n",
    "\n",
    "    else:\n",
    "        print(f\"{year} is not a leap year.\")\n",
    "else: \n",
    "    print(\"Enter a valid year.\")"
   ]
  },
  {
   "cell_type": "markdown",
   "metadata": {},
   "source": [
    "4. Write a Python script to check a string is palindrome or not."
   ]
  },
  {
   "cell_type": "code",
   "execution_count": 5,
   "metadata": {},
   "outputs": [
    {
     "name": "stdout",
     "output_type": "stream",
     "text": [
      "madam is a palindrome.\n"
     ]
    }
   ],
   "source": [
    "string = input(\"Enter a string: \")\n",
    "string = string.replace(\" \",\"\").lower()\n",
    "\n",
    "if string == string[::-1]:\n",
    "    print(f\"{string} is a palindrome.\")\n",
    "else:\n",
    "    print(f\"{string} is not a palindrome.\")"
   ]
  },
  {
   "cell_type": "markdown",
   "metadata": {},
   "source": [
    "5. Write a Python script to count occurrences of an element in a list of numbers. "
   ]
  },
  {
   "cell_type": "code",
   "execution_count": 10,
   "metadata": {},
   "outputs": [
    {
     "name": "stdout",
     "output_type": "stream",
     "text": [
      "(4, 5, 6, 1, 23, 5, 61, 65, 46, 56, 5, 54, 64, 4, 545, 5564, 544, 1559, 3)\n",
      "5 is the element to be searched.\n",
      "5 occurs 3 times.\n"
     ]
    }
   ],
   "source": [
    "list_of_numbers = eval(input(\"Enter a list of numbers: \"))\n",
    "print(list_of_numbers)\n",
    "element = int(input(\"Enter the element you want to count occurrences: \"))\n",
    "print(f\"{element} is the element to be searched.\")\n",
    "if element in list_of_numbers:\n",
    "     print(f\"{element} occurs {list_of_numbers.count(element)} times.\")\n",
    "else:\n",
    "    print(f\"{element} does not occur in the list.\")"
   ]
  },
  {
   "cell_type": "markdown",
   "metadata": {},
   "source": [
    "6. Write a Python script to find the sum of maximum and minimum number in a list."
   ]
  },
  {
   "cell_type": "code",
   "execution_count": 11,
   "metadata": {},
   "outputs": [
    {
     "name": "stdout",
     "output_type": "stream",
     "text": [
      "The list is (4, 5, 6, 1, 23, 5, 61, 65, 46, 56, 5, 54, 64, 4, 545, 5564, 544, 1559, 3)\n",
      "The sum of the maximum (5564) and minimum (1) numbers in the list is: 5565\n"
     ]
    }
   ],
   "source": [
    "numbers = eval(input('Enter a list of numbers: '))\n",
    "print(f\"The list is {numbers}\")\n",
    "max_num = max(numbers)\n",
    "min_num = min(numbers)\n",
    "\n",
    "sum_max_min = max_num + min_num\n",
    "\n",
    "print(f\"The sum of the maximum ({max_num}) and minimum ({min_num}) numbers in the list is: {sum_max_min}\")\n"
   ]
  },
  {
   "cell_type": "markdown",
   "metadata": {},
   "source": [
    "7. Write a Python Script to find nth highest number of a given list."
   ]
  },
  {
   "cell_type": "code",
   "execution_count": 13,
   "metadata": {},
   "outputs": [
    {
     "name": "stdout",
     "output_type": "stream",
     "text": [
      "The list is (4, 5, 6, 1, 23, 5, 61, 65, 46, 56, 5, 54, 64, 4, 545, 5564, 544, 1559, 3)\n",
      "The 6th highest number in the list is: 64\n"
     ]
    }
   ],
   "source": [
    "numbers = eval(input('Enter a list of numbers: '))\n",
    "print(f\"The list is {numbers}\")\n",
    "\n",
    "n = int(input(\"Enter the value of n to find the nth highest number: \")) # Input for nth highest number\n",
    "\n",
    "sorted_numbers = sorted(numbers, reverse=True) # Sort the list in descending order\n",
    "\n",
    "if n <= len(sorted_numbers):\n",
    "    nth_highest = sorted_numbers[n - 1]\n",
    "    print(f\"The {n}th highest number in the list is: {nth_highest}\")\n",
    "else:\n",
    "    print(f\"There is no {n}th highest number in the list.\")"
   ]
  },
  {
   "cell_type": "markdown",
   "metadata": {},
   "source": [
    "8. Write a Python script to remove repeated elements in the list."
   ]
  },
  {
   "cell_type": "code",
   "execution_count": 14,
   "metadata": {},
   "outputs": [
    {
     "name": "stdout",
     "output_type": "stream",
     "text": [
      "The original list is (4, 5, 6, 1, 23, 5, 61, 65, 46, 56, 5, 54, 64, 4, 545, 5564, 544, 1559, 3)\n",
      "List after removing repeated elements: [64, 1, 65, 545, 4, 5, 6, 544, 1559, 3, 46, 54, 23, 56, 5564, 61]\n"
     ]
    }
   ],
   "source": [
    "numbers = eval(input('Enter a list of numbers: '))\n",
    "print(f\"The original list is {numbers}\")\n",
    "\n",
    "unique_list = list(set(numbers))\n",
    "\n",
    "\n",
    "print(\"List after removing repeated elements:\", unique_list)"
   ]
  },
  {
   "cell_type": "markdown",
   "metadata": {},
   "source": [
    "9. Write a program to find the length of the input string without using len() function."
   ]
  },
  {
   "cell_type": "code",
   "execution_count": 16,
   "metadata": {},
   "outputs": [
    {
     "name": "stdout",
     "output_type": "stream",
     "text": [
      "For God so loved the world that he gave his one and only Son, that whoever believes in him shall not perish but have eternal life.\n",
      "Length of the string: 130\n"
     ]
    }
   ],
   "source": [
    "input_string = input(\"Enter a string: \")\n",
    "print(input_string)\n",
    "length = 0\n",
    "\n",
    "for char in input_string:\n",
    "    length += 1\n",
    "print(\"Length of the string:\", length)\n"
   ]
  },
  {
   "cell_type": "markdown",
   "metadata": {},
   "source": [
    "10. Write a program to convert decimal to binary number."
   ]
  },
  {
   "cell_type": "code",
   "execution_count": 17,
   "metadata": {},
   "outputs": [
    {
     "name": "stdout",
     "output_type": "stream",
     "text": [
      "The binary form of 56532 is 0b1101110011010100\n"
     ]
    }
   ],
   "source": [
    "x=int(input(\"Enter a number: \"))\n",
    "y=bin(x)\n",
    "print(\"The binary form of\",x,'is',y)"
   ]
  },
  {
   "cell_type": "markdown",
   "metadata": {},
   "source": [
    "11. Write a program to check if a given integer is prime."
   ]
  },
  {
   "cell_type": "code",
   "execution_count": 30,
   "metadata": {},
   "outputs": [
    {
     "name": "stdout",
     "output_type": "stream",
     "text": [
      "47 is a prime number.\n"
     ]
    }
   ],
   "source": [
    "n = int(input(\"Enter a number: \"))\n",
    "if n == 1:\n",
    "    print(\"1 is not a prime number.\")\n",
    "elif n==2:\n",
    "    print(\"2 is a prime number.\")\n",
    "elif n>2:\n",
    "    is_prime = True\n",
    "    for i in range(2, n):\n",
    "        if n % i == 0:\n",
    "            is_prime = False\n",
    "            break\n",
    "    if is_prime:\n",
    "        print(f\"{n} is a prime number.\")\n",
    "    else:\n",
    "        print(f\"{n} is not a prime number.\")"
   ]
  }
 ],
 "metadata": {
  "kernelspec": {
   "display_name": "Python 3",
   "language": "python",
   "name": "python3"
  },
  "language_info": {
   "codemirror_mode": {
    "name": "ipython",
    "version": 3
   },
   "file_extension": ".py",
   "mimetype": "text/x-python",
   "name": "python",
   "nbconvert_exporter": "python",
   "pygments_lexer": "ipython3",
   "version": "3.11.5"
  }
 },
 "nbformat": 4,
 "nbformat_minor": 2
}
