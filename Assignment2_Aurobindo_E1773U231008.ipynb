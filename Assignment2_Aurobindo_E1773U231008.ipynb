{
 "cells": [
  {
   "cell_type": "markdown",
   "metadata": {},
   "source": [
    "<div style=\"text-align: center;\">\n",
    "  <h1>Assignment 2</h1>\n",
    "</div>\n",
    "<div style=\"text-align: center;\">\n",
    "  <h1><span style=\"font-size: medium;\">E1773U231008</span></h1>\n",
    "</div>\n"
   ]
  },
  {
   "cell_type": "markdown",
   "metadata": {},
   "source": [
    "1. Write a python program to read the inputs from a given file named “MyValues.csv” \n",
    "containing either integer/floating point numbers or strings in each row. Calculate the \n",
    "mean, max, min, median, and standard deviation of all integer and floating point values \n",
    "and print them in a file “Summary.csv” .Extract all the numeric values from the file and \n",
    "print them in another file “MyValues_Data.csv”."
   ]
  },
  {
   "cell_type": "code",
   "execution_count": 7,
   "metadata": {},
   "outputs": [
    {
     "name": "stdout",
     "output_type": "stream",
     "text": [
      "Summary has been written to Summary.csv\n",
      "Numeric values have been written to MyValues_Data.csv\n"
     ]
    }
   ],
   "source": [
    "import csv\n",
    "import numpy as np\n",
    "\n",
    "# Function to extract numeric values from a list\n",
    "def extract_numeric_values(lst):\n",
    "    return [x for x in lst if isinstance(x, (int, float))]\n",
    "\n",
    "# Read MyValues.csv and extract numeric values\n",
    "numeric_values = []\n",
    "with open(r'C:\\Users\\askap\\Downloads\\MyValues.csv', newline='') as csvfile:\n",
    "    reader = csv.reader(csvfile)\n",
    "    for row in reader:\n",
    "        for value in row:\n",
    "            try:\n",
    "                numeric_value = float(value)\n",
    "                numeric_values.append(numeric_value)\n",
    "            except ValueError:\n",
    "                pass\n",
    "\n",
    "#Statistics\n",
    "mean = np.mean(numeric_values)\n",
    "max_value = np.max(numeric_values)\n",
    "min_value = np.min(numeric_values)\n",
    "median = np.median(numeric_values)\n",
    "std_dev = np.std(numeric_values)\n",
    "\n",
    "# Write Summary.csv\n",
    "with open(\"Summary.csv\", 'w', newline='') as csvfile:\n",
    "    writer = csv.writer(csvfile)\n",
    "    writer.writerow([\"Statistic\", \"Value\"])\n",
    "    writer.writerow([\"Mean\", mean])\n",
    "    writer.writerow([\"Max\", max_value])\n",
    "    writer.writerow([\"Min\", min_value])\n",
    "    writer.writerow([\"Median\", median])\n",
    "    writer.writerow([\"Standard Deviation\", std_dev])\n",
    "\n",
    "# Write MyValues_Data.csv\n",
    "with open(\"MyValues_Data.csv\", 'w', newline='') as csvfile:\n",
    "    writer = csv.writer(csvfile)\n",
    "    writer.writerow([\"Numeric Values\"])\n",
    "    for value in numeric_values:\n",
    "        writer.writerow([value])\n",
    "\n",
    "print(\"Summary has been written to Summary.csv\")\n",
    "print(\"Numeric values have been written to MyValues_Data.csv\")"
   ]
  },
  {
   "cell_type": "code",
   "execution_count": 8,
   "metadata": {},
   "outputs": [
    {
     "name": "stdout",
     "output_type": "stream",
     "text": [
      "['Numeric Values']\n",
      "['-983.4486442']\n",
      "['-788.3705147']\n",
      "['-625.7777619']\n",
      "['-645.5955191']\n",
      "['-245.0']\n",
      "['-811.0']\n",
      "['745.0']\n",
      "['-308.0']\n",
      "['785.0']\n",
      "['860.0']\n",
      "['-905.4947823']\n",
      "['-852.8114659']\n",
      "['-844.1378028']\n",
      "['394.0']\n",
      "['-8.872781602']\n",
      "['-1.0']\n",
      "['-322.5843473']\n",
      "['-25.78833987']\n",
      "['-592.7608149']\n",
      "['-838.3958007']\n",
      "['-418.0258408']\n",
      "['-498.6031455']\n",
      "['-436.0']\n",
      "['-190.0']\n",
      "['-226.0']\n",
      "['485.0']\n",
      "['-843.4161612']\n",
      "['-694.0']\n",
      "['-951.2723979']\n",
      "['-177.2561554']\n",
      "['-871.0']\n",
      "['-444.0']\n",
      "['197.0']\n",
      "['-633.0']\n",
      "['81.0']\n",
      "['-490.5662973']\n",
      "['-285.0']\n",
      "['-506.0']\n",
      "['-874.0']\n",
      "['298.0']\n",
      "['785.0']\n",
      "['-564.0']\n",
      "['483.0']\n",
      "['647.0']\n",
      "['-895.0']\n",
      "['-275.0']\n",
      "['-241.0']\n",
      "['-51.0']\n",
      "['-820.5984926']\n",
      "['-995.2318841']\n",
      "['-498.0']\n",
      "['891.0']\n",
      "['258.0']\n",
      "['-380.7851954']\n",
      "['-570.0']\n",
      "['-537.3655907']\n",
      "['423.0']\n",
      "['149.0']\n",
      "['954.0']\n",
      "['-173.8370842']\n",
      "['-533.3297183']\n",
      "['-247.0']\n",
      "['-581.0873041']\n",
      "['-839.0']\n",
      "['-978.1583721']\n",
      "['-61.0']\n",
      "['-155.6832691']\n",
      "['-433.0']\n",
      "['-472.0']\n",
      "['-62.41826581']\n",
      "['110.0']\n",
      "['-170.0293662']\n",
      "['-675.0']\n",
      "['401.0']\n",
      "['542.0']\n",
      "['-308.0']\n",
      "['-106.0']\n",
      "['-738.3884777']\n",
      "['-317.3674761']\n",
      "['-71.79074982']\n",
      "['374.0']\n",
      "['-212.5651284']\n",
      "['800.0']\n",
      "['-518.0']\n",
      "['-536.8010225']\n",
      "['520.0']\n",
      "['914.0']\n",
      "['-338.0']\n",
      "['-862.5242401']\n",
      "['-574.2557416']\n",
      "['-878.5689845']\n",
      "['-929.9729808']\n",
      "['-868.2366138']\n",
      "['-499.9617332']\n",
      "['-577.0']\n",
      "['265.0']\n",
      "['58.0']\n",
      "['-514.0']\n",
      "['-790.8965516']\n",
      "['707.0']\n",
      "['-698.0']\n",
      "['-883.3307302']\n",
      "['-794.8174352']\n",
      "['-702.6986047']\n",
      "['822.0']\n",
      "['896.0']\n",
      "['-593.647923']\n",
      "['-252.0']\n",
      "['-465.0']\n",
      "['-771.0']\n",
      "['-91.91677223']\n",
      "['-112.0']\n",
      "['-117.8499827']\n",
      "['525.0']\n",
      "['-733.2014562']\n",
      "['-847.0']\n",
      "['-725.9993202']\n",
      "['-142.3673457']\n",
      "['-695.6736771']\n",
      "['-993.0']\n",
      "['-264.8180317']\n",
      "['850.0']\n",
      "['-360.4068128']\n",
      "['-260.5962414']\n",
      "['-826.8279053']\n",
      "['-256.1537674']\n",
      "['519.0']\n",
      "['-25.63057113']\n",
      "['224.0']\n",
      "['-691.0']\n",
      "['928.0']\n",
      "['399.0']\n",
      "['-778.4606577']\n",
      "['594.0']\n",
      "['-539.0']\n",
      "['-461.0']\n",
      "['-66.61561483']\n",
      "['584.0']\n",
      "['447.0']\n",
      "['449.0']\n",
      "['-408.8005164']\n",
      "['-55.0']\n",
      "['-71.25356924']\n",
      "['652.0']\n",
      "['-866.0']\n",
      "['25.0']\n",
      "['-418.5889118']\n",
      "['724.0']\n",
      "['640.0']\n",
      "['872.0']\n",
      "['678.0']\n",
      "['-980.0']\n",
      "['-782.0']\n",
      "['-693.5059761']\n",
      "['-755.0']\n",
      "['-173.2424276']\n",
      "['-270.5796929']\n",
      "['-403.0']\n",
      "['-119.7716146']\n",
      "['-140.2928456']\n",
      "['736.0']\n",
      "['-132.0']\n",
      "['-753.0']\n",
      "['-39.0']\n",
      "['-287.4179888']\n",
      "['260.0']\n",
      "['-429.0939846']\n",
      "['-297.0']\n",
      "['-765.7162639']\n",
      "['468.0']\n",
      "['170.0']\n",
      "['-993.6862556']\n",
      "['-621.1408811']\n",
      "['269.0']\n",
      "['564.0']\n",
      "['-315.0']\n",
      "['-138.0575959']\n",
      "['-895.3900668']\n",
      "['-60.27808963']\n",
      "['-171.0']\n",
      "['-767.1434371']\n",
      "['-578.2482849']\n",
      "['852.0']\n",
      "['-944.8133648']\n",
      "['-76.29779267']\n",
      "['935.0']\n",
      "['-621.0']\n",
      "['-829.9063266']\n",
      "['-919.0']\n",
      "['-11.0']\n",
      "['-879.0']\n",
      "['-332.0']\n",
      "['-797.0']\n",
      "['327.0']\n",
      "['-373.4220411']\n",
      "['-717.0']\n",
      "['-52.24525105']\n",
      "['-159.0']\n",
      "['-324.1484121']\n",
      "['-198.0']\n",
      "['-887.0']\n",
      "['-513.1243364']\n",
      "['-279.7694746']\n",
      "['-691.1149842']\n",
      "['-249.7069821']\n",
      "['-154.0']\n",
      "['-610.054959']\n",
      "['-342.2485792']\n",
      "['617.0']\n",
      "['-621.5483601']\n",
      "['-434.2035335']\n",
      "['-633.0']\n",
      "['427.0']\n",
      "['-855.0']\n",
      "['974.0']\n",
      "['-620.2406208']\n",
      "['151.0']\n",
      "['602.0']\n",
      "['-475.6759999']\n",
      "['537.0']\n",
      "['-794.0']\n",
      "['856.0']\n",
      "['795.0']\n",
      "['-783.0']\n",
      "['-75.77589667']\n",
      "['-636.0']\n",
      "['-303.0']\n",
      "['615.0']\n",
      "['-953.0']\n",
      "['828.0']\n",
      "['-215.0434634']\n",
      "['-580.5447854']\n",
      "['-864.5164539']\n",
      "['-724.0075847']\n",
      "['588.0']\n",
      "['-897.2089034']\n",
      "['953.0']\n",
      "['153.0']\n",
      "['-421.0396138']\n",
      "['-966.7075726']\n",
      "['-385.7682713']\n",
      "['-583.2294217']\n",
      "['-191.8373951']\n",
      "['-852.1822147']\n",
      "['-264.6936719']\n",
      "['-188.0']\n",
      "['-316.0']\n",
      "['-134.0']\n",
      "['-252.0']\n",
      "['-747.1206489']\n",
      "['742.0']\n",
      "['-504.5440446']\n",
      "['-157.0']\n",
      "['822.0']\n",
      "['-852.0']\n",
      "['335.0']\n",
      "['701.0']\n",
      "['-933.0']\n",
      "['585.0']\n",
      "['-480.2849398']\n",
      "['-612.3102849']\n",
      "['-266.394601']\n",
      "['-668.0']\n",
      "['-152.0']\n",
      "['-927.0']\n",
      "['-530.5328157']\n",
      "['-420.8597186']\n",
      "['-883.0']\n",
      "['-288.0']\n",
      "['-744.7299488']\n",
      "['782.0']\n",
      "['8.0']\n",
      "['-171.0']\n",
      "['-543.5080227']\n",
      "['132.0']\n",
      "['-89.4064425']\n",
      "['-911.6315565']\n",
      "['-884.0']\n",
      "['479.0']\n",
      "['-948.7347515']\n",
      "['-785.0']\n",
      "['148.0']\n",
      "['-641.06526']\n",
      "['338.0']\n",
      "['-207.3719877']\n",
      "['642.0']\n",
      "['748.0']\n",
      "['349.0']\n",
      "['-563.0']\n",
      "['-279.8521549']\n"
     ]
    }
   ],
   "source": [
    "# Open and read MyValues_Data.csv\n",
    "with open(\"MyValues_Data.csv\", 'r') as csvfile:\n",
    "    reader = csv.reader(csvfile)\n",
    "    for row in reader:\n",
    "        print(row)"
   ]
  },
  {
   "cell_type": "code",
   "execution_count": 9,
   "metadata": {},
   "outputs": [
    {
     "name": "stdout",
     "output_type": "stream",
     "text": [
      "['Statistic', 'Value']\n",
      "['Mean', '-218.79543969983447']\n",
      "['Max', '974.0']\n",
      "['Min', '-995.2318841']\n",
      "['Median', '-292.5']\n",
      "['Standard Deviation', '549.2758620213647']\n"
     ]
    }
   ],
   "source": [
    "# Open and read Summary.csv\n",
    "with open(\"Summary.csv\", 'r') as csvfile:\n",
    "    reader = csv.reader(csvfile)\n",
    "    for row in reader:\n",
    "        print(row)"
   ]
  },
  {
   "cell_type": "markdown",
   "metadata": {},
   "source": [
    "2. Given a file named “MyText.txt” containing several lines/paragraph, find all unique \n",
    "characters (ignore space, comma, full stop, brackets, and quotes etc.) present in the file. \n",
    "Capital and small letter are counted as same.  \n",
    "Find the frequency (fi) of all characters in the file and print the output as follows.  \n",
    "The character “a” is present _______ times in the document.  \n",
    "The character “t” is present _______ times in the document."
   ]
  },
  {
   "cell_type": "code",
   "execution_count": 2,
   "metadata": {},
   "outputs": [
    {
     "name": "stdout",
     "output_type": "stream",
     "text": [
      "Unique characters in the file:\n",
      "a b c d e f g h i j k l m n o p q r s t u v w x y z é "
     ]
    }
   ],
   "source": [
    "unique_chars = set()\n",
    "\n",
    "with open(r'C:\\Users\\askap\\Downloads\\MyText.txt', \"r\") as file:\n",
    "    for line in file:\n",
    "        for char in line:\n",
    "            if char.isalpha() and char not in \" ,.()[]{}\\\"'\":\n",
    "                char = char.lower()\n",
    "                unique_chars.add(char)\n",
    "\n",
    "\n",
    "print(\"Unique characters in the file:\")\n",
    "for char in sorted(unique_chars):\n",
    "    print(char, end=' ')"
   ]
  },
  {
   "cell_type": "code",
   "execution_count": 4,
   "metadata": {},
   "outputs": [
    {
     "name": "stdout",
     "output_type": "stream",
     "text": [
      "The character 'a' is present 295 times in the document.\n",
      "The character 'b' is present 54 times in the document.\n",
      "The character 'c' is present 133 times in the document.\n",
      "The character 'd' is present 129 times in the document.\n",
      "The character 'e' is present 441 times in the document.\n",
      "The character 'f' is present 89 times in the document.\n",
      "The character 'g' is present 41 times in the document.\n",
      "The character 'h' is present 217 times in the document.\n",
      "The character 'i' is present 303 times in the document.\n",
      "The character 'j' is present 3 times in the document.\n",
      "The character 'k' is present 9 times in the document.\n",
      "The character 'l' is present 126 times in the document.\n",
      "The character 'm' is present 113 times in the document.\n",
      "The character 'n' is present 269 times in the document.\n",
      "The character 'o' is present 290 times in the document.\n",
      "The character 'p' is present 91 times in the document.\n",
      "The character 'q' is present 7 times in the document.\n",
      "The character 'r' is present 218 times in the document.\n",
      "The character 's' is present 274 times in the document.\n",
      "The character 't' is present 401 times in the document.\n",
      "The character 'u' is present 107 times in the document.\n",
      "The character 'v' is present 36 times in the document.\n",
      "The character 'w' is present 50 times in the document.\n",
      "The character 'x' is present 7 times in the document.\n",
      "The character 'y' is present 115 times in the document.\n",
      "The character 'z' is present 2 times in the document.\n",
      "The character 'é' is present 1 times in the document.\n"
     ]
    }
   ],
   "source": [
    "char_freq = {}\n",
    "\n",
    "with open(r'C:\\Users\\askap\\Downloads\\MyText.txt', \"r\") as file:\n",
    "    for line in file:\n",
    "        for char in line:\n",
    "            if char.isalpha() and char not in \" ,.()[]{}\\\"'\":\n",
    "                char = char.lower()\n",
    "                char_freq[char] = char_freq.get(char, 0) + 1\n",
    "\n",
    "for char in sorted(char_freq.keys()):\n",
    "    print(f\"The character '{char}' is present {char_freq[char]} times in the document.\")"
   ]
  },
  {
   "cell_type": "markdown",
   "metadata": {},
   "source": [
    "3. Write a Python Script to generate random passwords (alphanumeric). Ask users to enter \n",
    "the length of password and number of passwords they want to generate and then save \n",
    "all the generated passwords as a textfile named “MyPasswords.txt”."
   ]
  },
  {
   "cell_type": "code",
   "execution_count": 5,
   "metadata": {},
   "outputs": [
    {
     "name": "stdout",
     "output_type": "stream",
     "text": [
      "4 passwords of length 12 have been generated and saved to MyPasswords.txt.\n"
     ]
    }
   ],
   "source": [
    "import random\n",
    "\n",
    "def generate_random_password(length):\n",
    "    characters = 'abcdefghijklmnopqrstuvwxyzABCDEFGHIJKLMNOPQRSTUVWXYZ0123456789'\n",
    "    password = ''.join(random.choice(characters) for _ in range(length))\n",
    "    return password\n",
    "\n",
    "#Use Input\n",
    "password_length = int(input(\"Enter the length of the password: \"))\n",
    "num_passwords = int(input(\"Enter the number of passwords to generate: \"))\n",
    "\n",
    "# Generate passwords\n",
    "passwords = [generate_random_password(password_length) for _ in range(num_passwords)]\n",
    "\n",
    "# Save generated passwords to a text file\n",
    "with open(\"MyPasswords.txt\", \"w\") as file:\n",
    "    for password in passwords:\n",
    "        file.write(password + '\\n')\n",
    "\n",
    "print(f\"{num_passwords} passwords of length {password_length} have been generated and saved to MyPasswords.txt.\")"
   ]
  },
  {
   "cell_type": "code",
   "execution_count": 6,
   "metadata": {},
   "outputs": [
    {
     "name": "stdout",
     "output_type": "stream",
     "text": [
      "Contents of MyPasswords.txt:\n",
      "JZxbe9dp054n\n",
      "zLeVFOK5g5LI\n",
      "wRh444dxjx1F\n",
      "fX4Dew51JMfm\n"
     ]
    }
   ],
   "source": [
    "# Open and read the contents of \"MyPasswords.txt\"\n",
    "with open(\"MyPasswords.txt\", \"r\") as file:\n",
    "    passwords = file.readlines()\n",
    "\n",
    "# Print the contents of the file\n",
    "print(\"Contents of MyPasswords.txt:\")\n",
    "for password in passwords:\n",
    "    print(password.strip())"
   ]
  },
  {
   "cell_type": "markdown",
   "metadata": {},
   "source": [
    "4. Write a program that takes your full name as input and displays the \n",
    "abbreviations of the first and middle names except the last name which is \n",
    "displayed as it is. (e.g if the input is Kaji Ram Karki, then the output should \n",
    "be K.R.Karki)"
   ]
  },
  {
   "cell_type": "code",
   "execution_count": 23,
   "metadata": {},
   "outputs": [
    {
     "name": "stdout",
     "output_type": "stream",
     "text": [
      "Full name:  Isaac Vivian Alexander Richards\n",
      "Abbreviated name: I.V.A.Richards\n"
     ]
    }
   ],
   "source": [
    "def abbreviate_name(full_name):\n",
    "    # Split the full name into parts\n",
    "    name_parts = full_name.split()\n",
    "    \n",
    "    # Abbreviate the first and middle names (except the last name)\n",
    "    #For the first name\n",
    "    abbreviated_parts = [name_parts[0][0].upper()+\".\"]  \n",
    "\n",
    "    # To check middle name if exists, then abbreviate\n",
    "    for part in name_parts[1:-1]:\n",
    "        abbreviated_parts.append(part[0].upper() + \".\")\n",
    "   # Last name remains unchanged \n",
    "    abbreviated_parts.append(name_parts[-1])\n",
    "    \n",
    "    # Join the parts to form the abbreviated name\n",
    "    abbreviated_name = \"\".join(abbreviated_parts)\n",
    "    \n",
    "    return abbreviated_name\n",
    "\n",
    "# Take full name as input\n",
    "full_name = input(\"Enter your full name: \")\n",
    "print(\"Full name: \", full_name)\n",
    "\n",
    "# Abbreviate the name\n",
    "abbreviated_name = abbreviate_name(full_name)\n",
    "\n",
    "print(\"Abbreviated name:\", abbreviated_name)"
   ]
  },
  {
   "cell_type": "markdown",
   "metadata": {},
   "source": [
    "5. Write a function to compute and print the factorial of a number. Add \n",
    "checks to ensure that the input is a positive integer"
   ]
  },
  {
   "cell_type": "code",
   "execution_count": 26,
   "metadata": {},
   "outputs": [
    {
     "name": "stdout",
     "output_type": "stream",
     "text": [
      "Factorial of 52 is 80658175170943878571660636856403766975289505440883277824000000000000\n"
     ]
    }
   ],
   "source": [
    "n=int(input('Enter a no.'))\n",
    "factorial=1\n",
    "if n<0:\n",
    "    print(\"Factorial of negative no. does not exist\")\n",
    "else:\n",
    "    for i in range(1, n + 1):\n",
    "        factorial *= i\n",
    "    print(f\"Factorial of {n} is {factorial}\")"
   ]
  },
  {
   "cell_type": "markdown",
   "metadata": {},
   "source": [
    "6. Write a Python script to generate n random integers. Write a function to \n",
    "check a integer is prime or not. Use that function to check each of the \n",
    "randomly generated integers for prime and save the integers with the \n",
    "prime or not data in a text file “myprimecheck.txt”.  \n",
    "Example: Let Input n = 3  \n",
    "Output text file will be:  \n",
    "13: prime  \n",
    "15: not prime  \n",
    "97: prime  \n",
    "(13, 15, 97 are randomly generated integers) "
   ]
  },
  {
   "cell_type": "code",
   "execution_count": 27,
   "metadata": {},
   "outputs": [
    {
     "name": "stdout",
     "output_type": "stream",
     "text": [
      "Results have been saved to myprimecheck.txt.\n"
     ]
    }
   ],
   "source": [
    "import random\n",
    "\n",
    "#To check if the integer is prime\n",
    "def is_prime(n):\n",
    "\n",
    "    if n <= 1:\n",
    "        return False\n",
    "    if n == 2:\n",
    "        return True\n",
    "    if n % 2 == 0:\n",
    "        return False\n",
    "    for i in range(3, n+1):\n",
    "        if n % i == 0:\n",
    "            return False\n",
    "    return True\n",
    "\n",
    "n = int(input(\"Enter the number of random integers to generate: \"))\n",
    "min_val = int(input(\"Enter the minimum value for the range: \"))\n",
    "max_val = int(input(\"Enter the maximum value for the range: \"))\n",
    "\n",
    "random_integers = [random.randint(min_val, max_val) for _ in range(n)]\n",
    "# To check prime status\n",
    "prime_status = [(num, is_prime(num)) for num in random_integers]\n",
    "\n",
    "# Write the prime check results to a text file\n",
    "with open(\"myprimecheck.txt\", \"w\") as file:\n",
    "    for num, prime in prime_status:\n",
    "        prime_str = \"prime\" if prime else \"not prime\"\n",
    "        file.write(f\"{num}: {prime_str}\\n\")\n",
    "\n",
    "print(f\"Results have been saved to myprimecheck.txt.\")"
   ]
  },
  {
   "cell_type": "code",
   "execution_count": 28,
   "metadata": {},
   "outputs": [
    {
     "name": "stdout",
     "output_type": "stream",
     "text": [
      "Prime check results:\n",
      "109: not prime\n",
      "128: not prime\n",
      "22: not prime\n",
      "106: not prime\n",
      "105: not prime\n",
      "76: not prime\n",
      "236: not prime\n",
      "220: not prime\n",
      "21: not prime\n",
      "191: not prime\n"
     ]
    }
   ],
   "source": [
    "# Open and read the contents of \"myprimecheck.txt\"\n",
    "with open(\"myprimecheck.txt\", \"r\") as file:\n",
    "    prime_check_results = file.readlines()\n",
    "\n",
    "# Print the contents of the file\n",
    "print(\"Prime check results:\")\n",
    "for line in prime_check_results:\n",
    "    print(line.strip())"
   ]
  },
  {
   "cell_type": "markdown",
   "metadata": {},
   "source": [
    "7. Accept two integers m and n from the user. Then accept m x n integers \n",
    "from the user. Now print the numbers as an m x n matrix. Format the \n",
    "matrix neatly, with m rows and n columns. Use the `\\t` option for printing \n",
    "tabs."
   ]
  },
  {
   "cell_type": "code",
   "execution_count": 31,
   "metadata": {},
   "outputs": [
    {
     "name": "stdout",
     "output_type": "stream",
     "text": [
      "Matrix:\n",
      "1\t2\t5\t\n",
      "8\t7\t4\t\n",
      "9\t6\t3\t\n"
     ]
    }
   ],
   "source": [
    "m = int(input(\"Enter the number of rows (m): \"))\n",
    "n = int(input(\"Enter the number of columns (n): \"))\n",
    "\n",
    "\n",
    "matrix = []\n",
    "\n",
    "#User Input\n",
    "for i in range(m):\n",
    "    row = []\n",
    "    for j in range(n):\n",
    "        num = int(input(f\"Enter the element at position ({i+1},{j+1}): \"))\n",
    "        row.append(num)\n",
    "    matrix.append(row)\n",
    "\n",
    "# Print the matrix with \\t \n",
    "print(\"Matrix:\")\n",
    "for row in matrix:\n",
    "    for num in row:\n",
    "        print(num, end='\\t') \n",
    "    print()  # Move to the next row"
   ]
  },
  {
   "cell_type": "markdown",
   "metadata": {},
   "source": [
    " \n",
    "8. Accept two strings from the user. Check if the second string is a \n",
    "substring of the first. Use the `x.find()` function, where x is a string."
   ]
  },
  {
   "cell_type": "code",
   "execution_count": 39,
   "metadata": {},
   "outputs": [
    {
     "name": "stdout",
     "output_type": "stream",
     "text": [
      "'whoever believes in him should not perish'\n",
      " is a substring of \n",
      "'For God so loved the world, that he gave his only Son, that whoever believes in him should not perish but have eternal life. '.\n"
     ]
    }
   ],
   "source": [
    "string1 = input(\"Enter the first string: \")\n",
    "string2 = input(\"Enter the second string: \")\n",
    "\n",
    "# Using the find() function\n",
    "index = string1.find(string2)\n",
    "\n",
    "if index != -1:\n",
    "    print(f\"'{string2}'\\n is a substring of \\n'{string1}'.\")\n",
    "else:\n",
    "    print(f\"'{string2}'\\n is not a substring of \\n'{string1}'.\")"
   ]
  }
 ],
 "metadata": {
  "kernelspec": {
   "display_name": "Python 3",
   "language": "python",
   "name": "python3"
  },
  "language_info": {
   "codemirror_mode": {
    "name": "ipython",
    "version": 3
   },
   "file_extension": ".py",
   "mimetype": "text/x-python",
   "name": "python",
   "nbconvert_exporter": "python",
   "pygments_lexer": "ipython3",
   "version": "3.11.5"
  }
 },
 "nbformat": 4,
 "nbformat_minor": 2
}
